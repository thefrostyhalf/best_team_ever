{
 "cells": [
  {
   "cell_type": "code",
   "execution_count": 1,
   "metadata": {},
   "outputs": [],
   "source": [
    "import pandas as pd\n",
    "import matplotlib.pyplot as plt\n",
    "import tweepy\n",
    "import seaborn as sns\n",
    "from apikeys import apikeys"
   ]
  },
  {
   "cell_type": "code",
   "execution_count": 5,
   "metadata": {},
   "outputs": [],
   "source": [
    "# Initialize Sentiment Analyzer\n",
    "from vaderSentiment.vaderSentiment import SentimentIntensityAnalyzer\n",
    "analyzer = SentimentIntensityAnalyzer()"
   ]
  },
  {
   "cell_type": "code",
   "execution_count": null,
   "metadata": {},
   "outputs": [],
   "source": [
    "for result in results():\n",
    "    scores = analyzer.polarity_scores(tracklist['lyrics'])\n",
    "    compound = scores['compound']\n",
    "    pos = scores['pos']\n",
    "    neu = scores['neu']\n",
    "    neg = scores['neg']\n",
    "\n",
    "    # Add sentiments for each tweet into `sentiments` list\n",
    "    sentiments.append({\"Date\": tweet[\"created_at\"], \n",
    "                       \"Compound\": compound,\n",
    "                       \"Positive\": pos,\n",
    "                       \"Negative\": neu,\n",
    "                       \"Neutral\": neg})\n",
    "\n",
    "print(sentiments)"
   ]
  },
  {
   "cell_type": "code",
   "execution_count": null,
   "metadata": {},
   "outputs": [],
   "source": []
  }
 ],
 "metadata": {
  "kernelspec": {
   "display_name": "Python 3",
   "language": "python",
   "name": "python3"
  },
  "language_info": {
   "codemirror_mode": {
    "name": "ipython",
    "version": 3
   },
   "file_extension": ".py",
   "mimetype": "text/x-python",
   "name": "python",
   "nbconvert_exporter": "python",
   "pygments_lexer": "ipython3",
   "version": "3.6.4"
  }
 },
 "nbformat": 4,
 "nbformat_minor": 2
}
