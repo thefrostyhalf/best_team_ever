{
 "cells": [
  {
   "cell_type": "code",
   "execution_count": 16,
   "metadata": {},
   "outputs": [],
   "source": [
    "import pandas as pd\n",
    "import matplotlib.pyplot as plt\n",
    "import tweepy\n",
    "import seaborn as sns\n",
    "import apikeys\n",
    "import json\n",
    "import requests as req\n",
    "import numpy as np\n",
    "import matplotlib.pyplot as plt\n",
    "import re\n",
    "from tracklist import track_list\n",
    "from vaderSentiment.vaderSentiment import SentimentIntensityAnalyzer"
   ]
  },
  {
   "cell_type": "code",
   "execution_count": 17,
   "metadata": {},
   "outputs": [
    {
     "name": "stdout",
     "output_type": "stream",
     "text": [
      "{'message': {'header': {'status_code': 404, 'execute_time': 0.06465482711792}, 'body': []}}\n",
      "{'message': {'header': {'status_code': 404, 'execute_time': 0.06501293182373}, 'body': []}}\n",
      "{'message': {'header': {'status_code': 404, 'execute_time': 0.034568071365356}, 'body': []}}\n",
      "{'message': {'header': {'status_code': 404, 'execute_time': 0.060791969299316}, 'body': []}}\n"
     ]
    }
   ],
   "source": [
    "# Initialize Sentiment Analyzer\n",
    "\n",
    "#tracks_sample_list = [{\"artist\": \"Lady Gaga\", \"title\": \"Bad Romance\", \"genre\": \"pop\"}]\n",
    "\n",
    "#Dicts to collect API data\n",
    "\n",
    "for track in track_list:\n",
    "        url = \"https://api.musixmatch.com/ws/1.1/matcher.lyrics.get?format=json&q_track=\" + track['artist'] + \"&q_artist=\" + track['title'] + '&apikey=2ad42aad9e1f1628b2418c17e486f84b'\n",
    "        response_json = req.get(url).json()\n",
    "        try:\n",
    "                lyrics = response_json['message']['body']['lyrics']['lyrics_body'].replace(\"\\n\", ' ')\n",
    "                lyrics = lyrics.replace(\"******* This Lyrics is NOT for Commercial use *******\", '')\n",
    "                track.update({'lyrics': lyrics})\n",
    "        except:\n",
    "                print (response_json)\n",
    "\n",
    "with open('tracks_lyrics.json', 'w') as fout:\n",
    "    json.dump(track_list, fout)"
   ]
  },
  {
   "cell_type": "code",
   "execution_count": 29,
   "metadata": {},
   "outputs": [],
   "source": [
    "analyzer = SentimentIntensityAnalyzer()\n",
    "sentiments = []"
   ]
  },
  {
   "cell_type": "code",
   "execution_count": 63,
   "metadata": {},
   "outputs": [],
   "source": [
    "with open('tracks_lyrics.json') as data_file:\n",
    "    data = json.load(data_file)\n",
    "    for x in enumerate(data):\n",
    "        scores = analyzer.polarity_scores([lyrics][0])\n",
    "        compound = scores['compound']\n",
    "        pos = scores['pos']\n",
    "        neu = scores['neu']\n",
    "        neg = scores['neg']\n",
    "\n",
    "        # Add sentiments for each tweet into `sentiments` list\n",
    "        sentiments.append({\"Song\": (['title']), \n",
    "                           \"Compound\": compound,\n",
    "                           \"Positive\": pos,\n",
    "                           \"Negative\": neu,\n",
    "                           \"Neutral\": neg})\n",
    "\n"
   ]
  },
  {
   "cell_type": "code",
   "execution_count": null,
   "metadata": {},
   "outputs": [],
   "source": []
  },
  {
   "cell_type": "code",
   "execution_count": null,
   "metadata": {},
   "outputs": [],
   "source": []
  },
  {
   "cell_type": "code",
   "execution_count": null,
   "metadata": {},
   "outputs": [],
   "source": []
  }
 ],
 "metadata": {
  "kernelspec": {
   "display_name": "Python 3",
   "language": "python",
   "name": "python3"
  },
  "language_info": {
   "codemirror_mode": {
    "name": "ipython",
    "version": 3
   },
   "file_extension": ".py",
   "mimetype": "text/x-python",
   "name": "python",
   "nbconvert_exporter": "python",
   "pygments_lexer": "ipython3",
   "version": "3.6.4"
  }
 },
 "nbformat": 4,
 "nbformat_minor": 2
}
